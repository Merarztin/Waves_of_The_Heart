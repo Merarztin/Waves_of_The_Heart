{
 "cells": [
  {
   "cell_type": "code",
   "execution_count": 19,
   "id": "cdc0805a",
   "metadata": {},
   "outputs": [],
   "source": [
    "import pywt\n",
    "import librosa\n",
    "import pandas as pd\n",
    "import pathlib\n",
    "import glob"
   ]
  },
  {
   "cell_type": "code",
   "execution_count": 20,
   "id": "319db827",
   "metadata": {},
   "outputs": [
    {
     "name": "stdout",
     "output_type": "stream",
     "text": [
      "/Users/sentissi/code/Merarztin/Waves_of_The_Heart\r\n"
     ]
    }
   ],
   "source": [
    "!pwd"
   ]
  },
  {
   "cell_type": "code",
   "execution_count": 47,
   "id": "2992e18e",
   "metadata": {},
   "outputs": [],
   "source": [
    "data_dir = \"/Users/sentissi/code/Merarztin/Waves_of_The_Heart/raw_data\""
   ]
  },
  {
   "cell_type": "code",
   "execution_count": 48,
   "id": "8b84e00b",
   "metadata": {},
   "outputs": [],
   "source": [
    "files_path = pathlib.Path(data_dir)"
   ]
  },
  {
   "cell_type": "code",
   "execution_count": 50,
   "id": "52d80383",
   "metadata": {},
   "outputs": [
    {
     "data": {
      "text/plain": [
       "PosixPath('/Users/sentissi/code/Merarztin/Waves_of_The_Heart/raw_data/training-a/a0063.hea')"
      ]
     },
     "execution_count": 50,
     "metadata": {},
     "output_type": "execute_result"
    }
   ],
   "source": [
    "files_list = list(files_path.glob(\"training-a/*\"))\n",
    "files_list[0]"
   ]
  },
  {
   "cell_type": "code",
   "execution_count": 11,
   "id": "f63efeed",
   "metadata": {},
   "outputs": [],
   "source": [
    "# Load audio signal\n",
    "audio_signal, sr = librosa.load(\"/Users/sentissi/code/Merarztin/Waves_of_The_Heart/raw_data/training-a/a0002.wav\")"
   ]
  },
  {
   "cell_type": "code",
   "execution_count": 51,
   "id": "9238175d",
   "metadata": {},
   "outputs": [],
   "source": [
    "filtered_list = [file for file in files_list if \".wav\" in str(file)]"
   ]
  },
  {
   "cell_type": "code",
   "execution_count": 52,
   "id": "aef65c24",
   "metadata": {},
   "outputs": [
    {
     "name": "stdout",
     "output_type": "stream",
     "text": [
      "1232\n",
      "409\n"
     ]
    }
   ],
   "source": [
    "print(len(files_list))\n",
    "print(len(filtered_list))"
   ]
  },
  {
   "cell_type": "code",
   "execution_count": 12,
   "id": "6f8e8e0f",
   "metadata": {},
   "outputs": [],
   "source": [
    "# Apply wavelet transform\n",
    "wavelet = pywt.Wavelet('db4')\n",
    "coefficients = pywt.wavedec(audio_signal, wavelet, level=4)"
   ]
  },
  {
   "cell_type": "code",
   "execution_count": 13,
   "id": "99c214b0",
   "metadata": {},
   "outputs": [],
   "source": [
    "# Extract features\n",
    "features = []\n",
    "    for c in coefficients:\n",
    "    mean = np.mean(c)\n",
    "    std = np.std(c)\n",
    "    energy = np.sum(c ** 2)\n",
    "    features.append([mean, std, energy])"
   ]
  },
  {
   "cell_type": "code",
   "execution_count": 14,
   "id": "7fbb76f5",
   "metadata": {},
   "outputs": [
    {
     "name": "stdout",
     "output_type": "stream",
     "text": [
      "[[-9.6398966e-05, 0.052945174, 80.47989], [-7.674437e-08, 0.0019219166, 0.10604795], [1.3690277e-07, 0.0002672033, 0.0040992233], [-1.9095342e-08, 1.8782386e-05, 4.0506715e-05], [-1.12726044e-10, 9.0131664e-07, 1.8655142e-07]]\n"
     ]
    }
   ],
   "source": [
    "print(features)"
   ]
  },
  {
   "cell_type": "code",
   "execution_count": 16,
   "id": "d2d8edec",
   "metadata": {},
   "outputs": [],
   "source": [
    "features = pd.DataFrame(features)"
   ]
  },
  {
   "cell_type": "code",
   "execution_count": 17,
   "id": "8d4ce125",
   "metadata": {},
   "outputs": [
    {
     "data": {
      "text/html": [
       "<div>\n",
       "<style scoped>\n",
       "    .dataframe tbody tr th:only-of-type {\n",
       "        vertical-align: middle;\n",
       "    }\n",
       "\n",
       "    .dataframe tbody tr th {\n",
       "        vertical-align: top;\n",
       "    }\n",
       "\n",
       "    .dataframe thead th {\n",
       "        text-align: right;\n",
       "    }\n",
       "</style>\n",
       "<table border=\"1\" class=\"dataframe\">\n",
       "  <thead>\n",
       "    <tr style=\"text-align: right;\">\n",
       "      <th></th>\n",
       "      <th>0</th>\n",
       "      <th>1</th>\n",
       "      <th>2</th>\n",
       "    </tr>\n",
       "  </thead>\n",
       "  <tbody>\n",
       "    <tr>\n",
       "      <th>0</th>\n",
       "      <td>-9.639897e-05</td>\n",
       "      <td>5.294517e-02</td>\n",
       "      <td>8.047989e+01</td>\n",
       "    </tr>\n",
       "    <tr>\n",
       "      <th>1</th>\n",
       "      <td>-7.674437e-08</td>\n",
       "      <td>1.921917e-03</td>\n",
       "      <td>1.060480e-01</td>\n",
       "    </tr>\n",
       "    <tr>\n",
       "      <th>2</th>\n",
       "      <td>1.369028e-07</td>\n",
       "      <td>2.672033e-04</td>\n",
       "      <td>4.099223e-03</td>\n",
       "    </tr>\n",
       "    <tr>\n",
       "      <th>3</th>\n",
       "      <td>-1.909534e-08</td>\n",
       "      <td>1.878239e-05</td>\n",
       "      <td>4.050671e-05</td>\n",
       "    </tr>\n",
       "    <tr>\n",
       "      <th>4</th>\n",
       "      <td>-1.127260e-10</td>\n",
       "      <td>9.013166e-07</td>\n",
       "      <td>1.865514e-07</td>\n",
       "    </tr>\n",
       "  </tbody>\n",
       "</table>\n",
       "</div>"
      ],
      "text/plain": [
       "              0             1             2\n",
       "0 -9.639897e-05  5.294517e-02  8.047989e+01\n",
       "1 -7.674437e-08  1.921917e-03  1.060480e-01\n",
       "2  1.369028e-07  2.672033e-04  4.099223e-03\n",
       "3 -1.909534e-08  1.878239e-05  4.050671e-05\n",
       "4 -1.127260e-10  9.013166e-07  1.865514e-07"
      ]
     },
     "execution_count": 17,
     "metadata": {},
     "output_type": "execute_result"
    }
   ],
   "source": [
    "features"
   ]
  },
  {
   "cell_type": "code",
   "execution_count": 61,
   "id": "288b5e1a",
   "metadata": {},
   "outputs": [],
   "source": [
    "def extracting_wavelet_features(filepath):\n",
    "    audio_signal, sr = librosa.load(filepath)\n",
    "    \n",
    "    #wavelet transform\n",
    "    wavelet = pywt.Wavelet('db4')\n",
    "    coefficients = pwt.wavedec(audio_signal, wavelet, level=4)\n",
    "    \n",
    "    #extracting features\n",
    "    features = []\n",
    "    for c in coefficients:\n",
    "        mean = np.mean(c)\n",
    "        std = np.std(c)\n",
    "        energy = np.sum(c**2)\n",
    "        features.append([mean, std, energy])\n",
    "        \n",
    "    return features\n",
    "\n",
    "audio_dir = \"./raw_data/training-a\"\n",
    "audio_files = [file for file in os.listdir(audio_dir) if file.endswith(\".wav\")]\n",
    "\n",
    "for file in audio_files:\n",
    "    filepath = os.path.join(audio_dir, file)\n",
    "    features = extract_wavelet_features(filepath)"
   ]
  },
  {
   "cell_type": "code",
   "execution_count": 62,
   "id": "80daac94",
   "metadata": {},
   "outputs": [
    {
     "name": "stdout",
     "output_type": "stream",
     "text": [
      "Features for file a0006.wav: [[0.00010714582, 0.23875278, 1631.138], [-2.8932376e-07, 0.0031649936, 0.28664175], [4.976667e-07, 0.0005559588, 0.017687079], [-7.329682e-08, 4.979035e-05, 0.000283704], [-4.6445134e-10, 2.3386556e-06, 1.2517664e-06]]\n"
     ]
    }
   ],
   "source": [
    "print(f\"Features for file {file}: {features}\")"
   ]
  },
  {
   "cell_type": "code",
   "execution_count": null,
   "id": "0a8f1774",
   "metadata": {},
   "outputs": [],
   "source": []
  }
 ],
 "metadata": {
  "kernelspec": {
   "display_name": "Python 3 (ipykernel)",
   "language": "python",
   "name": "python3"
  },
  "language_info": {
   "codemirror_mode": {
    "name": "ipython",
    "version": 3
   },
   "file_extension": ".py",
   "mimetype": "text/x-python",
   "name": "python",
   "nbconvert_exporter": "python",
   "pygments_lexer": "ipython3",
   "version": "3.10.6"
  },
  "toc": {
   "base_numbering": 1,
   "nav_menu": {},
   "number_sections": true,
   "sideBar": true,
   "skip_h1_title": false,
   "title_cell": "Table of Contents",
   "title_sidebar": "Contents",
   "toc_cell": false,
   "toc_position": {},
   "toc_section_display": true,
   "toc_window_display": false
  }
 },
 "nbformat": 4,
 "nbformat_minor": 5
}
